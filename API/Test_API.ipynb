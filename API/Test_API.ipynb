{
 "cells": [
  {
   "cell_type": "markdown",
   "metadata": {},
   "source": [
    "# Test de l'API "
   ]
  },
  {
   "cell_type": "markdown",
   "metadata": {},
   "source": [
    "# Ressource : \n",
    "https://rapidapi.com/edamam/api/edamam-food-and-grocery-database"
   ]
  },
  {
   "cell_type": "markdown",
   "metadata": {},
   "source": [
    "# Objectifs\n",
    "\n",
    "* Tester la collecte de produits à base de “champagne” via l’API \n",
    "* Réaliser une extraction des 10 premiers produits dans un fichier “.csv”, contenant pour chaque produit les données suivantes : foodId, label, category, foodContentsLabel, image."
   ]
  },
  {
   "cell_type": "markdown",
   "metadata": {},
   "source": [
    "# Imports"
   ]
  },
  {
   "cell_type": "code",
   "execution_count": 30,
   "metadata": {},
   "outputs": [],
   "source": [
    "import requests\n",
    "import csv\n",
    "import json\n"
   ]
  },
  {
   "cell_type": "markdown",
   "metadata": {},
   "source": [
    "# Requete"
   ]
  },
  {
   "cell_type": "code",
   "execution_count": 31,
   "metadata": {},
   "outputs": [
    {
     "name": "stdout",
     "output_type": "stream",
     "text": [
      "{'text': 'Champagne', 'parsed': [{'food': {'foodId': 'food_a656mk2a5dmqb2adiamu6beihduu', 'uri': 'http://www.edamam.com/ontologies/edamam.owl#Food_table_white_wine', 'label': 'Champagne', 'knownAs': 'dry white wine', 'nutrients': {'ENERC_KCAL': 82.0, 'PROCNT': 0.07, 'FAT': 0.0, 'CHOCDF': 2.6, 'FIBTG': 0.0}, 'category': 'Generic foods', 'categoryLabel': 'food', 'image': 'https://www.edamam.com/food-img/a71/a718cf3c52add522128929f1f324d2ab.jpg'}}], 'hints': [{'food': {'foodId': 'food_a656mk2a5dmqb2adiamu6beihduu', 'uri': 'http://www.edamam.com/ontologies/edamam.owl#Food_table_white_wine', 'label': 'Champagne', 'knownAs': 'dry white wine', 'nutrients': {'ENERC_KCAL': 82.0, 'PROCNT': 0.07, 'FAT': 0.0, 'CHOCDF': 2.6, 'FIBTG': 0.0}, 'category': 'Generic foods', 'categoryLabel': 'food', 'image': 'https://www.edamam.com/food-img/a71/a718cf3c52add522128929f1f324d2ab.jpg'}, 'measures': [{'uri': 'http://www.edamam.com/ontologies/edamam.owl#Measure_serving', 'label': 'Serving', 'weight': 147.0}, {'uri': 'http://www.edamam.com/ontologies/edamam.owl#Measure_unit', 'label': 'Whole', 'weight': 750.0}, {'uri': 'http://www.edamam.com/ontologies/edamam.owl#Measure_splash', 'label': 'Splash', 'weight': 84.0}, {'uri': 'http://www.edamam.com/ontologies/edamam.owl#Measure_gram', 'label': 'Gram', 'weight': 1.0}, {'uri': 'http://www.edamam.com/ontologies/edamam.owl#Measure_ounce', 'label': 'Ounce', 'weight': 28.349523125}, {'uri': 'http://www.edamam.com/ontologies/edamam.owl#Measure_pound', 'label': 'Pound', 'weight': 453.59237}, {'uri': 'http://www.edamam.com/ontologies/edamam.owl#Measure_kilogram', 'label': 'Kilogram', 'weight': 1000.0}, {'uri': 'http://www.edamam.com/ontologies/edamam.owl#Measure_cup', 'label': 'Cup', 'weight': 235.2}, {'uri': 'http://www.edamam.com/ontologies/edamam.owl#Measure_bottle', 'label': 'Bottle', 'weight': 745.599200575638}, {'uri': 'http://www.edamam.com/ontologies/edamam.owl#Measure_fluid_ounce', 'label': 'Fluid ounce', 'weight': 29.4}]}, {'food': {'foodId': 'food_b753ithamdb8psbt0w2k9aquo06c', 'uri': 'http://www.edamam.com/ontologies/edamam.owl#Food_FDCBR_744058', 'label': 'Champagne Vinaigrette, Champagne', 'knownAs': 'CHAMPAGNE VINAIGRETTE, CHAMPAGNE', 'nutrients': {'ENERC_KCAL': 571.0, 'PROCNT': 0.0, 'FAT': 64.29000091552734, 'CHOCDF': 7.139999866485596}, 'brand': 'SoFine Food', 'category': 'Packaged foods', 'categoryLabel': 'food', 'foodContentsLabel': 'OLIVE OIL; BALSAMIC VINEGAR; CHAMPAGNE VINEGAR; GARLIC; DIJON MUSTARD; SEA SALT.', 'servingSizes': [{'uri': 'http://www.edamam.com/ontologies/edamam.owl#Measure_tablespoon', 'label': 'Tablespoon', 'quantity': 1.0}, {'uri': 'http://www.edamam.com/ontologies/edamam.owl#Measure_gram', 'label': 'Gram', 'quantity': 14.0}]}, 'measures': [{'uri': 'http://www.edamam.com/ontologies/edamam.owl#Measure_serving', 'label': 'Serving', 'weight': 14.0}, {'uri': 'http://www.edamam.com/ontologies/edamam.owl#Measure_tablespoon', 'label': 'Tablespoon', 'weight': 14.0}, {'uri': 'http://www.edamam.com/ontologies/edamam.owl#Measure_gram', 'label': 'Gram', 'weight': 1.0}, {'uri': 'http://www.edamam.com/ontologies/edamam.owl#Measure_ounce', 'label': 'Ounce', 'weight': 28.349523125}, {'uri': 'http://www.edamam.com/ontologies/edamam.owl#Measure_pound', 'label': 'Pound', 'weight': 453.59237}, {'uri': 'http://www.edamam.com/ontologies/edamam.owl#Measure_kilogram', 'label': 'Kilogram', 'weight': 1000.0}]}, {'food': {'foodId': 'food_b3dyababjo54xobm6r8jzbghjgqe', 'uri': 'http://www.edamam.com/ontologies/edamam.owl#Food_FDCBR_1069751', 'label': 'Champagne Vinaigrette, Champagne', 'knownAs': 'CHAMPAGNE VINAIGRETTE, CHAMPAGNE', 'nutrients': {'ENERC_KCAL': 333.0, 'PROCNT': 0.0, 'FAT': 36.66999816894531, 'CHOCDF': 6.670000076293945}, 'brand': 'Maple Grove Farms Of Vermont Inc.', 'category': 'Packaged foods', 'categoryLabel': 'food', 'foodContentsLabel': 'INGREDIENTS: WATER; CANOLA OIL; CHAMPAGNE VINEGAR; SUGAR; OLIVE OIL; SALT; DRIED GARLIC; DRED SHALLOTS; BLACK PEPPER; XANTHAN GUM; SPICE', 'image': 'https://www.edamam.com/food-img/d88/d88b64d97349ed062368972113124e35.jpg', 'servingSizes': [{'uri': 'http://www.edamam.com/ontologies/edamam.owl#Measure_milliliter', 'label': 'Milliliter', 'quantity': 30.0}, {'uri': 'http://www.edamam.com/ontologies/edamam.owl#Measure_tablespoon', 'label': 'Tablespoon', 'quantity': 2.0}], 'servingsPerContainer': 12.000000000000002}, 'measures': [{'uri': 'http://www.edamam.com/ontologies/edamam.owl#Measure_serving', 'label': 'Serving', 'weight': 29.573529562}, {'uri': 'http://www.edamam.com/ontologies/edamam.owl#Measure_package', 'label': 'Package', 'weight': 354.88235474400005}, {'uri': 'http://www.edamam.com/ontologies/edamam.owl#Measure_gram', 'label': 'Gram', 'weight': 1.0}, {'uri': 'http://www.edamam.com/ontologies/edamam.owl#Measure_ounce', 'label': 'Ounce', 'weight': 28.349523125}, {'uri': 'http://www.edamam.com/ontologies/edamam.owl#Measure_pound', 'label': 'Pound', 'weight': 453.59237}, {'uri': 'http://www.edamam.com/ontologies/edamam.owl#Measure_kilogram', 'label': 'Kilogram', 'weight': 1000.0}, {'uri': 'http://www.edamam.com/ontologies/edamam.owl#Measure_tablespoon', 'label': 'Tablespoon', 'weight': 14.786764781}, {'uri': 'http://www.edamam.com/ontologies/edamam.owl#Measure_milliliter', 'label': 'Milliliter', 'weight': 0.9857843187333334}]}, {'food': {'foodId': 'food_a9e0ghsamvoc45bwa2ybsa3gken9', 'uri': 'http://www.edamam.com/ontologies/edamam.owl#Food_FDCBR_898926', 'label': 'Champagne Vinaigrette, Champagne', 'knownAs': 'CHAMPAGNE VINAIGRETTE, CHAMPAGNE', 'nutrients': {'ENERC_KCAL': 500.0, 'PROCNT': 0.0, 'FAT': 50.0, 'CHOCDF': 6.670000076293945}, 'brand': 'T. Marzetti Company', 'category': 'Packaged foods', 'categoryLabel': 'food', 'foodContentsLabel': 'CANOLA AND SOYBEAN OIL; WHITE WINE (CONTAINS SULFITES); WATER; VINEGARS (CHAMPAGNE AND WHITE WINE); SUGAR; SALT; MUSTARD SEED; MONOSODIUM GLUTAMATE; GARLIC*; ONION*; SPICE; XANTHAN GUM; MOLASSES; CALCIUM DISODIUM EDTA ADDED TO PROTECT FLAVOR; CHIVES*; TAMARIND; NATURAL FLAVOR.', 'servingSizes': [{'uri': 'http://www.edamam.com/ontologies/edamam.owl#Measure_tablespoon', 'label': 'Tablespoon', 'quantity': 2.0}, {'uri': 'http://www.edamam.com/ontologies/edamam.owl#Measure_gram', 'label': 'Gram', 'quantity': 30.0}]}, 'measures': [{'uri': 'http://www.edamam.com/ontologies/edamam.owl#Measure_serving', 'label': 'Serving', 'weight': 30.0}, {'uri': 'http://www.edamam.com/ontologies/edamam.owl#Measure_gram', 'label': 'Gram', 'weight': 1.0}, {'uri': 'http://www.edamam.com/ontologies/edamam.owl#Measure_ounce', 'label': 'Ounce', 'weight': 28.349523125}, {'uri': 'http://www.edamam.com/ontologies/edamam.owl#Measure_pound', 'label': 'Pound', 'weight': 453.59237}, {'uri': 'http://www.edamam.com/ontologies/edamam.owl#Measure_kilogram', 'label': 'Kilogram', 'weight': 1000.0}, {'uri': 'http://www.edamam.com/ontologies/edamam.owl#Measure_tablespoon', 'label': 'Tablespoon', 'weight': 15.0}]}, {'food': {'foodId': 'food_an4jjueaucpus2a3u1ni8auhe7q9', 'uri': 'http://www.edamam.com/ontologies/edamam.owl#Food_FDCBR_898932', 'label': 'Champagne Vinaigrette, Champagne', 'knownAs': 'CHAMPAGNE VINAIGRETTE, CHAMPAGNE', 'nutrients': {'ENERC_KCAL': 194.0, 'PROCNT': 0.0, 'FAT': 16.1299991607666, 'CHOCDF': 6.449999809265137}, 'brand': 'T. Marzetti Company', 'category': 'Packaged foods', 'categoryLabel': 'food', 'foodContentsLabel': 'WATER; CANOLA AND SOYBEAN OIL; WHITE WINE (CONTAINS SULFITES); VINEGARS (CHAMPAGNE AND WHITE WINE); SUGAR; SALT; MUSTARD SEED; MONOSODIUM GLUTAMATE; GARLIC*; ONION*; SPICE; XANTHAN GUM; POTASSIUM SORBATE ADDED TO MAINTAIN FRESHNESS; MOLASSES; CALCIUM DISODIUM EDTA ADDED TO PROTECT FLAVOR; CHIVES*; TAMARIND.', 'servingSizes': [{'uri': 'http://www.edamam.com/ontologies/edamam.owl#Measure_gram', 'label': 'Gram', 'quantity': 31.0}, {'uri': 'http://www.edamam.com/ontologies/edamam.owl#Measure_tablespoon', 'label': 'Tablespoon', 'quantity': 2.0}]}, 'measures': [{'uri': 'http://www.edamam.com/ontologies/edamam.owl#Measure_serving', 'label': 'Serving', 'weight': 31.0}, {'uri': 'http://www.edamam.com/ontologies/edamam.owl#Measure_gram', 'label': 'Gram', 'weight': 1.0}, {'uri': 'http://www.edamam.com/ontologies/edamam.owl#Measure_ounce', 'label': 'Ounce', 'weight': 28.349523125}, {'uri': 'http://www.edamam.com/ontologies/edamam.owl#Measure_pound', 'label': 'Pound', 'weight': 453.59237}, {'uri': 'http://www.edamam.com/ontologies/edamam.owl#Measure_kilogram', 'label': 'Kilogram', 'weight': 1000.0}, {'uri': 'http://www.edamam.com/ontologies/edamam.owl#Measure_tablespoon', 'label': 'Tablespoon', 'weight': 15.5}]}, {'food': {'foodId': 'food_bmu5dmkazwuvpaa5prh1daa8jxs0', 'uri': 'http://www.edamam.com/ontologies/edamam.owl#Food_FDCBR_621916', 'label': 'Champagne Dressing, Champagne', 'knownAs': 'CHAMPAGNE DRESSING, CHAMPAGNE', 'nutrients': {'ENERC_KCAL': 500.0, 'PROCNT': 0.0, 'FAT': 50.0, 'CHOCDF': 6.670000076293945, 'FIBTG': 0.0}, 'brand': 'T. Marzetti Company', 'category': 'Packaged foods', 'categoryLabel': 'food', 'foodContentsLabel': 'SOYBEAN OIL; WHITE WINE (PRESERVED WITH SULFITES); WATER; WHITE WINE VINEGAR; SUGAR; SALT; SPICES (INCLUDING MUSTARD SEED); MONOSODIUM GLUTAMATE; GARLIC*; ONION*; XANTHAN GUM; MOLASSES; CALCIUM DISODIUM EDTA ADDED TO PROTECT FLAVOR; VINEGAR; CORN SYRUP; CARAMEL COLOR; CHIVES*; NATURAL FLAVOR; TAMARIND.', 'image': 'https://www.edamam.com/food-img/ab2/ab2459fc2a98cd35f68b848be2337ecb.jpg', 'servingSizes': [{'uri': 'http://www.edamam.com/ontologies/edamam.owl#Measure_gram', 'label': 'Gram', 'quantity': 30.0}, {'uri': 'http://www.edamam.com/ontologies/edamam.owl#Measure_tablespoon', 'label': 'Tablespoon', 'quantity': 2.0}], 'servingsPerContainer': 12.0}, 'measures': [{'uri': 'http://www.edamam.com/ontologies/edamam.owl#Measure_serving', 'label': 'Serving', 'weight': 30.0}, {'uri': 'http://www.edamam.com/ontologies/edamam.owl#Measure_package', 'label': 'Package', 'weight': 360.0}, {'uri': 'http://www.edamam.com/ontologies/edamam.owl#Measure_gram', 'label': 'Gram', 'weight': 1.0}, {'uri': 'http://www.edamam.com/ontologies/edamam.owl#Measure_ounce', 'label': 'Ounce', 'weight': 28.349523125}, {'uri': 'http://www.edamam.com/ontologies/edamam.owl#Measure_pound', 'label': 'Pound', 'weight': 453.59237}, {'uri': 'http://www.edamam.com/ontologies/edamam.owl#Measure_kilogram', 'label': 'Kilogram', 'weight': 1000.0}, {'uri': 'http://www.edamam.com/ontologies/edamam.owl#Measure_tablespoon', 'label': 'Tablespoon', 'weight': 15.0}]}, {'food': {'foodId': 'food_alpl44taoyv11ra0lic1qa8xculi', 'uri': 'http://www.edamam.com/ontologies/edamam.owl#_generic_meal_buttercream_champagne', 'label': 'Champagne Buttercream', 'knownAs': 'Champagne Buttercream', 'nutrients': {'ENERC_KCAL': 431.28471367026697, 'PROCNT': 0.7259713218654498, 'FAT': 21.529796803670717, 'CHOCDF': 59.60717142620606, 'FIBTG': 0.0}, 'category': 'Generic meals', 'categoryLabel': 'meal', 'foodContentsLabel': 'sugar; butter; shortening; vanilla; champagne; milk'}, 'measures': [{'uri': 'http://www.edamam.com/ontologies/edamam.owl#Measure_unit', 'label': 'Whole', 'weight': 179.81592549897243}, {'uri': 'http://www.edamam.com/ontologies/edamam.owl#Measure_serving', 'label': 'Serving', 'weight': 179.81592549897243}, {'uri': 'http://www.edamam.com/ontologies/edamam.owl#Measure_gram', 'label': 'Gram', 'weight': 1.0}, {'uri': 'http://www.edamam.com/ontologies/edamam.owl#Measure_ounce', 'label': 'Ounce', 'weight': 28.349523125}, {'uri': 'http://www.edamam.com/ontologies/edamam.owl#Measure_pound', 'label': 'Pound', 'weight': 453.59237}, {'uri': 'http://www.edamam.com/ontologies/edamam.owl#Measure_kilogram', 'label': 'Kilogram', 'weight': 1000.0}]}, {'food': {'foodId': 'food_byap67hab6evc3a0f9w1oag3s0qf', 'uri': 'http://www.edamam.com/ontologies/edamam.owl#_generic_meal_champagne_sorbet', 'label': 'Champagne Sorbet', 'knownAs': 'Champagne Sorbet', 'nutrients': {'ENERC_KCAL': 116.24649258757483, 'PROCNT': 0.2789223701785643, 'FAT': 0.6419934705047794, 'CHOCDF': 19.29974730365528, 'FIBTG': 0.18170385113373097}, 'category': 'Generic meals', 'categoryLabel': 'meal', 'foodContentsLabel': 'Sugar; Lemon juice; brandy; Champagne; Peach'}, 'measures': [{'uri': 'http://www.edamam.com/ontologies/edamam.owl#Measure_unit', 'label': 'Whole', 'weight': 267.85887739660626}, {'uri': 'http://www.edamam.com/ontologies/edamam.owl#Measure_serving', 'label': 'Serving', 'weight': 267.85887739660626}, {'uri': 'http://www.edamam.com/ontologies/edamam.owl#Measure_gram', 'label': 'Gram', 'weight': 1.0}, {'uri': 'http://www.edamam.com/ontologies/edamam.owl#Measure_ounce', 'label': 'Ounce', 'weight': 28.349523125}, {'uri': 'http://www.edamam.com/ontologies/edamam.owl#Measure_pound', 'label': 'Pound', 'weight': 453.59237}, {'uri': 'http://www.edamam.com/ontologies/edamam.owl#Measure_kilogram', 'label': 'Kilogram', 'weight': 1000.0}, {'uri': 'http://www.edamam.com/ontologies/edamam.owl#Measure_cup', 'label': 'Cup', 'weight': 240.0}, {'uri': 'http://www.edamam.com/ontologies/edamam.owl#Measure_milliliter', 'label': 'Milliliter', 'weight': 1.0}]}, {'food': {'foodId': 'food_am5egz6aq3fpjlaf8xpkdbc2asis', 'uri': 'http://www.edamam.com/ontologies/edamam.owl#_generic_meal_champagne_truffle', 'label': 'Champagne Truffles', 'knownAs': 'Champagne Truffles', 'nutrients': {'ENERC_KCAL': 402.26144434996013, 'PROCNT': 6.599124915923504, 'FAT': 24.523123777016046, 'CHOCDF': 48.4945229615048, 'FIBTG': 7.33218646238401}, 'category': 'Generic meals', 'categoryLabel': 'meal', 'foodContentsLabel': 'butter; cocoa; sweetened condensed milk; vanilla extract; champagne; powdered sugar'}, 'measures': [{'uri': 'http://www.edamam.com/ontologies/edamam.owl#Measure_unit', 'label': 'Whole', 'weight': 38.35602848586944}, {'uri': 'http://www.edamam.com/ontologies/edamam.owl#Measure_serving', 'label': 'Serving', 'weight': 38.35602848586944}, {'uri': 'http://www.edamam.com/ontologies/edamam.owl#Measure_gram', 'label': 'Gram', 'weight': 1.0}, {'uri': 'http://www.edamam.com/ontologies/edamam.owl#Measure_ounce', 'label': 'Ounce', 'weight': 28.349523125}, {'uri': 'http://www.edamam.com/ontologies/edamam.owl#Measure_pound', 'label': 'Pound', 'weight': 453.59237}, {'uri': 'http://www.edamam.com/ontologies/edamam.owl#Measure_kilogram', 'label': 'Kilogram', 'weight': 1000.0}, {'uri': 'http://www.edamam.com/ontologies/edamam.owl#Measure_cup', 'label': 'Cup', 'weight': 240.0}]}, {'food': {'foodId': 'food_bcz8rhiajk1fuva0vkfmeakbouc0', 'uri': 'http://www.edamam.com/ontologies/edamam.owl#_generic_meal_champagne_vinaigrette', 'label': 'Champagne Vinaigrette', 'knownAs': 'Champagne Vinaigrette', 'nutrients': {'ENERC_KCAL': 412.10989377242726, 'PROCNT': 0.31819358025166017, 'FAT': 42.78047681758653, 'CHOCDF': 5.869072973958464, 'FIBTG': 0.4220777203545052}, 'category': 'Generic meals', 'categoryLabel': 'meal', 'foodContentsLabel': 'champagne vinegar; olive oil; Dijon mustard; shallot; honey; Salt; pepper'}, 'measures': [{'uri': 'http://www.edamam.com/ontologies/edamam.owl#Measure_unit', 'label': 'Whole', 'weight': 94.01074559002959}, {'uri': 'http://www.edamam.com/ontologies/edamam.owl#Measure_serving', 'label': 'Serving', 'weight': 94.01074559002959}, {'uri': 'http://www.edamam.com/ontologies/edamam.owl#Measure_gram', 'label': 'Gram', 'weight': 1.0}, {'uri': 'http://www.edamam.com/ontologies/edamam.owl#Measure_ounce', 'label': 'Ounce', 'weight': 28.349523125}, {'uri': 'http://www.edamam.com/ontologies/edamam.owl#Measure_pound', 'label': 'Pound', 'weight': 453.59237}, {'uri': 'http://www.edamam.com/ontologies/edamam.owl#Measure_kilogram', 'label': 'Kilogram', 'weight': 1000.0}, {'uri': 'http://www.edamam.com/ontologies/edamam.owl#Measure_tablespoon', 'label': 'Tablespoon', 'weight': 20.72}, {'uri': 'http://www.edamam.com/ontologies/edamam.owl#Measure_milliliter', 'label': 'Milliliter', 'weight': 1.0}]}, {'food': {'foodId': 'food_a79xmnya6togreaeukbroa0thhh0', 'uri': 'http://www.edamam.com/ontologies/edamam.owl#_generic_meal_champagne_chicken', 'label': 'Champagne Chicken', 'knownAs': 'Champagne Chicken', 'nutrients': {'ENERC_KCAL': 167.34840891373292, 'PROCNT': 13.272227105177773, 'FAT': 10.145533403382984, 'CHOCDF': 3.6462988122105204, 'FIBTG': 0.26793421257996475}, 'category': 'Generic meals', 'categoryLabel': 'meal', 'foodContentsLabel': 'Flour; Salt; Pepper; Boneless, Skinless Chicken Breasts; Butter; Olive Oil; Champagne; Mushrooms; Heavy Whipping Cream'}, 'measures': [{'uri': 'http://www.edamam.com/ontologies/edamam.owl#Measure_unit', 'label': 'Whole', 'weight': 324.05341920914856}, {'uri': 'http://www.edamam.com/ontologies/edamam.owl#Measure_serving', 'label': 'Serving', 'weight': 324.05341920914856}, {'uri': 'http://www.edamam.com/ontologies/edamam.owl#Measure_gram', 'label': 'Gram', 'weight': 1.0}, {'uri': 'http://www.edamam.com/ontologies/edamam.owl#Measure_ounce', 'label': 'Ounce', 'weight': 28.349523125}, {'uri': 'http://www.edamam.com/ontologies/edamam.owl#Measure_pound', 'label': 'Pound', 'weight': 453.59237}, {'uri': 'http://www.edamam.com/ontologies/edamam.owl#Measure_kilogram', 'label': 'Kilogram', 'weight': 1000.0}, {'uri': 'http://www.edamam.com/ontologies/edamam.owl#Measure_milliliter', 'label': 'Milliliter', 'weight': 1.0}]}, {'food': {'foodId': 'food_aoxaf73b3o0igebpj6wjga6kqhco', 'uri': 'http://www.edamam.com/ontologies/edamam.owl#_generic_meal_champagne_strawberry', 'label': 'Strawberry Champagne', 'knownAs': 'Strawberry Champagne', 'nutrients': {'ENERC_KCAL': 78.92201906400439, 'PROCNT': 0.7521686779674064, 'FAT': 0.32547256697649896, 'CHOCDF': 9.746713858431747, 'FIBTG': 0.8455191537034977}, 'category': 'Generic meals', 'categoryLabel': 'meal', 'foodContentsLabel': 'Champagne; Strawberries'}, 'measures': [{'uri': 'http://www.edamam.com/ontologies/edamam.owl#Measure_unit', 'label': 'Whole', 'weight': 319.29197626510177}, {'uri': 'http://www.edamam.com/ontologies/edamam.owl#Measure_serving', 'label': 'Serving', 'weight': 319.29197626510177}, {'uri': 'http://www.edamam.com/ontologies/edamam.owl#Measure_gram', 'label': 'Gram', 'weight': 1.0}, {'uri': 'http://www.edamam.com/ontologies/edamam.owl#Measure_ounce', 'label': 'Ounce', 'weight': 28.349523125}, {'uri': 'http://www.edamam.com/ontologies/edamam.owl#Measure_pound', 'label': 'Pound', 'weight': 453.59237}, {'uri': 'http://www.edamam.com/ontologies/edamam.owl#Measure_kilogram', 'label': 'Kilogram', 'weight': 1000.0}, {'uri': 'http://www.edamam.com/ontologies/edamam.owl#Measure_milliliter', 'label': 'Milliliter', 'weight': 1.0}]}, {'food': {'foodId': 'food_ax1n26waalpd9cbc64bjob7pw6hg', 'uri': 'http://www.edamam.com/ontologies/edamam.owl#_generic_meal_champagne_jelly', 'label': 'Champagne Jelly', 'knownAs': 'Champagne Jelly', 'nutrients': {'ENERC_KCAL': 164.2092798454345, 'PROCNT': 2.1499145102914485, 'FAT': 0.07103504095823619, 'CHOCDF': 30.718062059218568, 'FIBTG': 0.20276386399643814}, 'category': 'Generic meals', 'categoryLabel': 'meal', 'foodContentsLabel': 'Champagne; gelatine; caster sugar; blueberries'}, 'measures': [{'uri': 'http://www.edamam.com/ontologies/edamam.owl#Measure_unit', 'label': 'Whole', 'weight': 211.40867455595745}, {'uri': 'http://www.edamam.com/ontologies/edamam.owl#Measure_serving', 'label': 'Serving', 'weight': 211.40867455595745}, {'uri': 'http://www.edamam.com/ontologies/edamam.owl#Measure_gram', 'label': 'Gram', 'weight': 1.0}, {'uri': 'http://www.edamam.com/ontologies/edamam.owl#Measure_ounce', 'label': 'Ounce', 'weight': 28.349523125}, {'uri': 'http://www.edamam.com/ontologies/edamam.owl#Measure_pound', 'label': 'Pound', 'weight': 453.59237}, {'uri': 'http://www.edamam.com/ontologies/edamam.owl#Measure_kilogram', 'label': 'Kilogram', 'weight': 1000.0}, {'uri': 'http://www.edamam.com/ontologies/edamam.owl#Measure_tablespoon', 'label': 'Tablespoon', 'weight': 20.72}, {'uri': 'http://www.edamam.com/ontologies/edamam.owl#Measure_milliliter', 'label': 'Milliliter', 'weight': 1.0}]}, {'food': {'foodId': 'food_b4va8u0bb6pf74akh2rtcb3llna9', 'uri': 'http://www.edamam.com/ontologies/edamam.owl#_generic_meal_champagne_punch', 'label': 'Champagne Punch', 'knownAs': 'Champagne Punch', 'nutrients': {'ENERC_KCAL': 72.41691319344669, 'PROCNT': 0.16241527464517921, 'FAT': 0.07313338539505483, 'CHOCDF': 8.220853523521688, 'FIBTG': 0.29264645911499065}, 'category': 'Generic meals', 'categoryLabel': 'meal', 'foodContentsLabel': 'champagne; simple syrup; orange juice; blueberries; raspberries; orange; ice'}, 'measures': [{'uri': 'http://www.edamam.com/ontologies/edamam.owl#Measure_unit', 'label': 'Whole', 'weight': 320.762392015937}, {'uri': 'http://www.edamam.com/ontologies/edamam.owl#Measure_serving', 'label': 'Serving', 'weight': 320.762392015937}, {'uri': 'http://www.edamam.com/ontologies/edamam.owl#Measure_gram', 'label': 'Gram', 'weight': 1.0}, {'uri': 'http://www.edamam.com/ontologies/edamam.owl#Measure_ounce', 'label': 'Ounce', 'weight': 28.349523125}, {'uri': 'http://www.edamam.com/ontologies/edamam.owl#Measure_pound', 'label': 'Pound', 'weight': 453.59237}, {'uri': 'http://www.edamam.com/ontologies/edamam.owl#Measure_kilogram', 'label': 'Kilogram', 'weight': 1000.0}, {'uri': 'http://www.edamam.com/ontologies/edamam.owl#Measure_cup', 'label': 'Cup', 'weight': 240.0}, {'uri': 'http://www.edamam.com/ontologies/edamam.owl#Measure_milliliter', 'label': 'Milliliter', 'weight': 1.0}]}, {'food': {'foodId': 'food_a4j8wm8ayflf13b45t3c3bk9w4ek', 'uri': 'http://www.edamam.com/ontologies/edamam.owl#_generic_meal_champagne_sangria', 'label': 'Champagne Sangria', 'knownAs': 'Champagne Sangria', 'nutrients': {'ENERC_KCAL': 84.45493140026794, 'PROCNT': 0.4085039277389953, 'FAT': 0.11418214877057638, 'CHOCDF': 13.833775891574787, 'FIBTG': 0.9172870824229086}, 'category': 'Generic meals', 'categoryLabel': 'meal', 'foodContentsLabel': 'mint leaves; Champagne; orange juice; lemon; lime; strawberries; ice; sugar'}, 'measures': [{'uri': 'http://www.edamam.com/ontologies/edamam.owl#Measure_unit', 'label': 'Whole', 'weight': 328.1769209565396}, {'uri': 'http://www.edamam.com/ontologies/edamam.owl#Measure_serving', 'label': 'Serving', 'weight': 328.1769209565396}, {'uri': 'http://www.edamam.com/ontologies/edamam.owl#Measure_gram', 'label': 'Gram', 'weight': 1.0}, {'uri': 'http://www.edamam.com/ontologies/edamam.owl#Measure_ounce', 'label': 'Ounce', 'weight': 28.349523125}, {'uri': 'http://www.edamam.com/ontologies/edamam.owl#Measure_pound', 'label': 'Pound', 'weight': 453.59237}, {'uri': 'http://www.edamam.com/ontologies/edamam.owl#Measure_kilogram', 'label': 'Kilogram', 'weight': 1000.0}, {'uri': 'http://www.edamam.com/ontologies/edamam.owl#Measure_cup', 'label': 'Cup', 'weight': 240.0}, {'uri': 'http://www.edamam.com/ontologies/edamam.owl#Measure_milliliter', 'label': 'Milliliter', 'weight': 1.0}]}, {'food': {'foodId': 'food_bw7gtgxbnn7nbwa62ppwpar9ljc1', 'uri': 'http://www.edamam.com/ontologies/edamam.owl#Food_FDCBR_688782', 'label': 'Champagne Cotton Candy, Champagne', 'knownAs': 'CHAMPAGNE COTTON CANDY, CHAMPAGNE', 'nutrients': {'ENERC_KCAL': 393.0, 'PROCNT': 0.0, 'FAT': 0.0, 'CHOCDF': 100.0}, 'brand': 'WONDERSHOP', 'category': 'Packaged foods', 'categoryLabel': 'food', 'foodContentsLabel': 'SUGAR; ARTIFICIAL & NATURAL FLAVOR.', 'servingSizes': [{'uri': 'http://www.edamam.com/ontologies/edamam.owl#Measure_gram', 'label': 'Gram', 'quantity': 28.0}], 'servingsPerContainer': 1.0}, 'measures': [{'uri': 'http://www.edamam.com/ontologies/edamam.owl#Measure_serving', 'label': 'Serving', 'weight': 28.0}, {'uri': 'http://www.edamam.com/ontologies/edamam.owl#Measure_package', 'label': 'Package', 'weight': 28.0}, {'uri': 'http://www.edamam.com/ontologies/edamam.owl#Measure_gram', 'label': 'Gram', 'weight': 1.0}, {'uri': 'http://www.edamam.com/ontologies/edamam.owl#Measure_ounce', 'label': 'Ounce', 'weight': 28.349523125}, {'uri': 'http://www.edamam.com/ontologies/edamam.owl#Measure_pound', 'label': 'Pound', 'weight': 453.59237}, {'uri': 'http://www.edamam.com/ontologies/edamam.owl#Measure_kilogram', 'label': 'Kilogram', 'weight': 1000.0}]}, {'food': {'foodId': 'food_bu12urpbtuo9v6b4jpvk2a1fh4hh', 'uri': 'http://www.edamam.com/ontologies/edamam.owl#Food_FDCBR_820952', 'label': 'Champagne Simply Dressed Vinaigrette, Champagne', 'knownAs': 'CHAMPAGNE SIMPLY DRESSED VINAIGRETTE, CHAMPAGNE', 'nutrients': {'ENERC_KCAL': 267.0, 'PROCNT': 0.0, 'FAT': 26.670000076293945, 'CHOCDF': 6.670000076293945}, 'brand': 'Simply Dressed', 'category': 'Packaged foods', 'categoryLabel': 'food', 'foodContentsLabel': 'FILTERED WATER; CANOLA OIL; CHAMPAGNE AND WHITE WINE VINEGARS; CANE SUGAR; EXTRA VIRGIN OLIVE OIL; SALT; NATURAL FLAVOR; GARLIC*; SPICE; XANTHAN GUM; BELL PEPPER*.', 'image': 'https://www.edamam.com/food-img/736/736a3e27a63d799d4073d2774075b509.png', 'servingSizes': [{'uri': 'http://www.edamam.com/ontologies/edamam.owl#Measure_tablespoon', 'label': 'Tablespoon', 'quantity': 2.0}, {'uri': 'http://www.edamam.com/ontologies/edamam.owl#Measure_gram', 'label': 'Gram', 'quantity': 30.0}]}, 'measures': [{'uri': 'http://www.edamam.com/ontologies/edamam.owl#Measure_serving', 'label': 'Serving', 'weight': 30.0}, {'uri': 'http://www.edamam.com/ontologies/edamam.owl#Measure_gram', 'label': 'Gram', 'weight': 1.0}, {'uri': 'http://www.edamam.com/ontologies/edamam.owl#Measure_ounce', 'label': 'Ounce', 'weight': 28.349523125}, {'uri': 'http://www.edamam.com/ontologies/edamam.owl#Measure_pound', 'label': 'Pound', 'weight': 453.59237}, {'uri': 'http://www.edamam.com/ontologies/edamam.owl#Measure_kilogram', 'label': 'Kilogram', 'weight': 1000.0}, {'uri': 'http://www.edamam.com/ontologies/edamam.owl#Measure_tablespoon', 'label': 'Tablespoon', 'weight': 15.0}]}, {'food': {'foodId': 'food_bba727vaimolf0b8stgoibx7ujei', 'uri': 'http://www.edamam.com/ontologies/edamam.owl#_generic_meal_cake_champagne', 'label': 'Champagne Cake', 'knownAs': 'Champagne Cake', 'nutrients': {'ENERC_KCAL': 357.0338641448535, 'PROCNT': 3.5950055146347077, 'FAT': 18.113741283632606, 'CHOCDF': 45.05864329865586, 'FIBTG': 0.715559613892597}, 'category': 'Generic meals', 'categoryLabel': 'meal', 'foodContentsLabel': 'flour; baking powder; salt; butter; sugar; eggs; vanilla extract; champagne; powdered sugar'}, 'measures': [{'uri': 'http://www.edamam.com/ontologies/edamam.owl#Measure_unit', 'label': 'Whole', 'weight': 123.77908827010602}, {'uri': 'http://www.edamam.com/ontologies/edamam.owl#Measure_serving', 'label': 'Serving', 'weight': 123.77908827010602}, {'uri': 'http://www.edamam.com/ontologies/edamam.owl#Measure_gram', 'label': 'Gram', 'weight': 1.0}, {'uri': 'http://www.edamam.com/ontologies/edamam.owl#Measure_ounce', 'label': 'Ounce', 'weight': 28.349523125}, {'uri': 'http://www.edamam.com/ontologies/edamam.owl#Measure_pound', 'label': 'Pound', 'weight': 453.59237}, {'uri': 'http://www.edamam.com/ontologies/edamam.owl#Measure_kilogram', 'label': 'Kilogram', 'weight': 1000.0}]}, {'food': {'foodId': 'food_a6mj2obbqy38soat01vrxaqnvvet', 'uri': 'http://www.edamam.com/ontologies/edamam.owl#_generic_meal_champagne_cupcake', 'label': 'Champagne Cupcakes', 'knownAs': 'Champagne Cupcakes', 'nutrients': {'ENERC_KCAL': 369.33191480195717, 'PROCNT': 2.62115566366166, 'FAT': 18.515341545630328, 'CHOCDF': 46.93736434580775, 'FIBTG': 0.4292999281242148}, 'category': 'Generic meals', 'categoryLabel': 'meal', 'foodContentsLabel': 'butter; sugar; eggs; champagne; plain yogurt; flour; baking powder; salt; powdered sugar'}, 'measures': [{'uri': 'http://www.edamam.com/ontologies/edamam.owl#Measure_unit', 'label': 'Whole', 'weight': 122.55279115912714}, {'uri': 'http://www.edamam.com/ontologies/edamam.owl#Measure_serving', 'label': 'Serving', 'weight': 122.55279115912714}, {'uri': 'http://www.edamam.com/ontologies/edamam.owl#Measure_cupcake', 'label': 'Cupcake', 'weight': 157.5986171}, {'uri': 'http://www.edamam.com/ontologies/edamam.owl#Measure_gram', 'label': 'Gram', 'weight': 1.0}, {'uri': 'http://www.edamam.com/ontologies/edamam.owl#Measure_ounce', 'label': 'Ounce', 'weight': 28.349523125}, {'uri': 'http://www.edamam.com/ontologies/edamam.owl#Measure_pound', 'label': 'Pound', 'weight': 453.59237}, {'uri': 'http://www.edamam.com/ontologies/edamam.owl#Measure_kilogram', 'label': 'Kilogram', 'weight': 1000.0}]}, {'food': {'foodId': 'food_aj3tbbpbl068bhagn76uubtzyzyv', 'uri': 'http://www.edamam.com/ontologies/edamam.owl#Food_FDCBR_461724', 'label': 'Champagne Vinegar', 'knownAs': 'CHAMPAGNE VINEGAR', 'nutrients': {'ENERC_KCAL': 33.0, 'PROCNT': 0.0, 'FAT': 0.0, 'CHOCDF': 6.670000076293945, 'FIBTG': 0.0}, 'brand': 'O TARRAGON', 'category': 'Packaged foods', 'categoryLabel': 'food', 'foodContentsLabel': 'CALIFORNIA CHAMPAGNE WINE VINEGAR; FRESH TARRAGON.', 'servingSizes': [{'uri': 'http://www.edamam.com/ontologies/edamam.owl#Measure_tablespoon', 'label': 'Tablespoon', 'quantity': 1.0}, {'uri': 'http://www.edamam.com/ontologies/edamam.owl#Measure_milliliter', 'label': 'Milliliter', 'quantity': 15.0}]}, 'measures': [{'uri': 'http://www.edamam.com/ontologies/edamam.owl#Measure_serving', 'label': 'Serving', 'weight': 14.786764781}, {'uri': 'http://www.edamam.com/ontologies/edamam.owl#Measure_tablespoon', 'label': 'Tablespoon', 'weight': 14.786764781}, {'uri': 'http://www.edamam.com/ontologies/edamam.owl#Measure_gram', 'label': 'Gram', 'weight': 1.0}, {'uri': 'http://www.edamam.com/ontologies/edamam.owl#Measure_ounce', 'label': 'Ounce', 'weight': 28.349523125}, {'uri': 'http://www.edamam.com/ontologies/edamam.owl#Measure_pound', 'label': 'Pound', 'weight': 453.59237}, {'uri': 'http://www.edamam.com/ontologies/edamam.owl#Measure_kilogram', 'label': 'Kilogram', 'weight': 1000.0}, {'uri': 'http://www.edamam.com/ontologies/edamam.owl#Measure_milliliter', 'label': 'Milliliter', 'weight': 0.9857843187333334}]}], '_links': {'next': {'title': 'Next page', 'href': 'https://api.edamam.com/api/food-database/v2/parser?session=40&app_key=69d004c3e3c5b967261e625baea627fc&category%5B0%5D=generic-foods&ingr=Champagne&health%5B0%5D=alcohol-free&app_id=85b409cf&nutrition-type=cooking'}}}\n"
     ]
    }
   ],
   "source": [
    "url = \"https://edamam-food-and-grocery-database.p.rapidapi.com/api/food-database/v2/parser\"\n",
    "\n",
    "querystring = {\"ingr\":\"Champagne\",\"nutrition-type\":\"cooking\",\"category[0]\":\"generic-foods\",\"health[0]\":\"alcohol-free\"}\n",
    "\n",
    "headers = {\n",
    "\t\"X-RapidAPI-Key\": \"10461e424fmshf4da45578a453a9p1b42b8jsna087807d2653\", \n",
    "\t\"X-RapidAPI-Host\": \"edamam-food-and-grocery-database.p.rapidapi.com\"\n",
    "}\n",
    "\n",
    "response = requests.get(url, headers=headers, params=querystring)\n",
    "\n",
    "if response.status_code == 200: \n",
    "    data = response.json()\n",
    "    print(data)\n",
    "else: \n",
    "    print(f\"Échec de la requête avec le code d'erreur : {response.status_code}\")\n"
   ]
  },
  {
   "cell_type": "markdown",
   "metadata": {},
   "source": [
    "# Traitement de la data "
   ]
  },
  {
   "cell_type": "code",
   "execution_count": 32,
   "metadata": {},
   "outputs": [
    {
     "name": "stdout",
     "output_type": "stream",
     "text": [
      "[{'foodId': 'food_a656mk2a5dmqb2adiamu6beihduu', 'label': 'Champagne', 'category': 'Generic foods', 'foodContentsLabel': None, 'image': 'https://www.edamam.com/food-img/a71/a718cf3c52add522128929f1f324d2ab.jpg'}, {'foodId': 'food_b753ithamdb8psbt0w2k9aquo06c', 'label': 'Champagne Vinaigrette, Champagne', 'category': 'Packaged foods', 'foodContentsLabel': 'OLIVE OIL; BALSAMIC VINEGAR; CHAMPAGNE VINEGAR; GARLIC; DIJON MUSTARD; SEA SALT.', 'image': None}, {'foodId': 'food_b3dyababjo54xobm6r8jzbghjgqe', 'label': 'Champagne Vinaigrette, Champagne', 'category': 'Packaged foods', 'foodContentsLabel': 'INGREDIENTS: WATER; CANOLA OIL; CHAMPAGNE VINEGAR; SUGAR; OLIVE OIL; SALT; DRIED GARLIC; DRED SHALLOTS; BLACK PEPPER; XANTHAN GUM; SPICE', 'image': 'https://www.edamam.com/food-img/d88/d88b64d97349ed062368972113124e35.jpg'}, {'foodId': 'food_a9e0ghsamvoc45bwa2ybsa3gken9', 'label': 'Champagne Vinaigrette, Champagne', 'category': 'Packaged foods', 'foodContentsLabel': 'CANOLA AND SOYBEAN OIL; WHITE WINE (CONTAINS SULFITES); WATER; VINEGARS (CHAMPAGNE AND WHITE WINE); SUGAR; SALT; MUSTARD SEED; MONOSODIUM GLUTAMATE; GARLIC*; ONION*; SPICE; XANTHAN GUM; MOLASSES; CALCIUM DISODIUM EDTA ADDED TO PROTECT FLAVOR; CHIVES*; TAMARIND; NATURAL FLAVOR.', 'image': None}, {'foodId': 'food_an4jjueaucpus2a3u1ni8auhe7q9', 'label': 'Champagne Vinaigrette, Champagne', 'category': 'Packaged foods', 'foodContentsLabel': 'WATER; CANOLA AND SOYBEAN OIL; WHITE WINE (CONTAINS SULFITES); VINEGARS (CHAMPAGNE AND WHITE WINE); SUGAR; SALT; MUSTARD SEED; MONOSODIUM GLUTAMATE; GARLIC*; ONION*; SPICE; XANTHAN GUM; POTASSIUM SORBATE ADDED TO MAINTAIN FRESHNESS; MOLASSES; CALCIUM DISODIUM EDTA ADDED TO PROTECT FLAVOR; CHIVES*; TAMARIND.', 'image': None}, {'foodId': 'food_bmu5dmkazwuvpaa5prh1daa8jxs0', 'label': 'Champagne Dressing, Champagne', 'category': 'Packaged foods', 'foodContentsLabel': 'SOYBEAN OIL; WHITE WINE (PRESERVED WITH SULFITES); WATER; WHITE WINE VINEGAR; SUGAR; SALT; SPICES (INCLUDING MUSTARD SEED); MONOSODIUM GLUTAMATE; GARLIC*; ONION*; XANTHAN GUM; MOLASSES; CALCIUM DISODIUM EDTA ADDED TO PROTECT FLAVOR; VINEGAR; CORN SYRUP; CARAMEL COLOR; CHIVES*; NATURAL FLAVOR; TAMARIND.', 'image': 'https://www.edamam.com/food-img/ab2/ab2459fc2a98cd35f68b848be2337ecb.jpg'}, {'foodId': 'food_alpl44taoyv11ra0lic1qa8xculi', 'label': 'Champagne Buttercream', 'category': 'Generic meals', 'foodContentsLabel': 'sugar; butter; shortening; vanilla; champagne; milk', 'image': None}, {'foodId': 'food_byap67hab6evc3a0f9w1oag3s0qf', 'label': 'Champagne Sorbet', 'category': 'Generic meals', 'foodContentsLabel': 'Sugar; Lemon juice; brandy; Champagne; Peach', 'image': None}, {'foodId': 'food_am5egz6aq3fpjlaf8xpkdbc2asis', 'label': 'Champagne Truffles', 'category': 'Generic meals', 'foodContentsLabel': 'butter; cocoa; sweetened condensed milk; vanilla extract; champagne; powdered sugar', 'image': None}, {'foodId': 'food_bcz8rhiajk1fuva0vkfmeakbouc0', 'label': 'Champagne Vinaigrette', 'category': 'Generic meals', 'foodContentsLabel': 'champagne vinegar; olive oil; Dijon mustard; shallot; honey; Salt; pepper', 'image': None}, {'foodId': 'food_a79xmnya6togreaeukbroa0thhh0', 'label': 'Champagne Chicken', 'category': 'Generic meals', 'foodContentsLabel': 'Flour; Salt; Pepper; Boneless, Skinless Chicken Breasts; Butter; Olive Oil; Champagne; Mushrooms; Heavy Whipping Cream', 'image': None}, {'foodId': 'food_aoxaf73b3o0igebpj6wjga6kqhco', 'label': 'Strawberry Champagne', 'category': 'Generic meals', 'foodContentsLabel': 'Champagne; Strawberries', 'image': None}, {'foodId': 'food_ax1n26waalpd9cbc64bjob7pw6hg', 'label': 'Champagne Jelly', 'category': 'Generic meals', 'foodContentsLabel': 'Champagne; gelatine; caster sugar; blueberries', 'image': None}, {'foodId': 'food_b4va8u0bb6pf74akh2rtcb3llna9', 'label': 'Champagne Punch', 'category': 'Generic meals', 'foodContentsLabel': 'champagne; simple syrup; orange juice; blueberries; raspberries; orange; ice', 'image': None}, {'foodId': 'food_a4j8wm8ayflf13b45t3c3bk9w4ek', 'label': 'Champagne Sangria', 'category': 'Generic meals', 'foodContentsLabel': 'mint leaves; Champagne; orange juice; lemon; lime; strawberries; ice; sugar', 'image': None}, {'foodId': 'food_bw7gtgxbnn7nbwa62ppwpar9ljc1', 'label': 'Champagne Cotton Candy, Champagne', 'category': 'Packaged foods', 'foodContentsLabel': 'SUGAR; ARTIFICIAL & NATURAL FLAVOR.', 'image': None}, {'foodId': 'food_bu12urpbtuo9v6b4jpvk2a1fh4hh', 'label': 'Champagne Simply Dressed Vinaigrette, Champagne', 'category': 'Packaged foods', 'foodContentsLabel': 'FILTERED WATER; CANOLA OIL; CHAMPAGNE AND WHITE WINE VINEGARS; CANE SUGAR; EXTRA VIRGIN OLIVE OIL; SALT; NATURAL FLAVOR; GARLIC*; SPICE; XANTHAN GUM; BELL PEPPER*.', 'image': 'https://www.edamam.com/food-img/736/736a3e27a63d799d4073d2774075b509.png'}, {'foodId': 'food_bba727vaimolf0b8stgoibx7ujei', 'label': 'Champagne Cake', 'category': 'Generic meals', 'foodContentsLabel': 'flour; baking powder; salt; butter; sugar; eggs; vanilla extract; champagne; powdered sugar', 'image': None}, {'foodId': 'food_a6mj2obbqy38soat01vrxaqnvvet', 'label': 'Champagne Cupcakes', 'category': 'Generic meals', 'foodContentsLabel': 'butter; sugar; eggs; champagne; plain yogurt; flour; baking powder; salt; powdered sugar', 'image': None}, {'foodId': 'food_aj3tbbpbl068bhagn76uubtzyzyv', 'label': 'Champagne Vinegar', 'category': 'Packaged foods', 'foodContentsLabel': 'CALIFORNIA CHAMPAGNE WINE VINEGAR; FRESH TARRAGON.', 'image': None}]\n",
      "20\n"
     ]
    }
   ],
   "source": [
    "filtered_data = []\n",
    "\n",
    "for item in data['hints']:\n",
    "        food_data = item.get('food', {})\n",
    "        selected_data = {\n",
    "            'foodId': food_data.get('foodId'),\n",
    "            'label': food_data.get('label'),\n",
    "            'category': food_data.get('category'),\n",
    "            'foodContentsLabel': food_data.get('foodContentsLabel'),\n",
    "            'image': food_data.get('image')\n",
    "        }\n",
    "        filtered_data.append(selected_data)\n",
    "print(filtered_data)\n",
    "print(len(filtered_data))"
   ]
  },
  {
   "cell_type": "markdown",
   "metadata": {},
   "source": [
    "# Sauvegarde des 10 premiers produits dans un CSV"
   ]
  },
  {
   "cell_type": "code",
   "execution_count": 33,
   "metadata": {},
   "outputs": [
    {
     "name": "stdout",
     "output_type": "stream",
     "text": [
      "Les données ont été enregistrées dans champagne_products.csv\n"
     ]
    }
   ],
   "source": [
    "# Chemin du fichier CSV\n",
    "csv_file_path = 'champagne_products.csv'\n",
    "\n",
    "# Écriture des données dans le fichier CSV\n",
    "with open(csv_file_path, mode='w', newline='', encoding='utf-8') as csv_file:\n",
    "    fieldnames = ['foodId', 'label', 'category', 'foodContentsLabel', 'image']\n",
    "    writer = csv.DictWriter(csv_file, fieldnames=fieldnames)\n",
    "\n",
    "    # Écriture de l'en-tête\n",
    "    writer.writeheader()\n",
    "\n",
    "    # Écriture des données\n",
    "    for row in filtered_data[:10]:\n",
    "        writer.writerow(row)\n",
    "\n",
    "print(f\"Les données ont été enregistrées dans {csv_file_path}\")"
   ]
  },
  {
   "cell_type": "markdown",
   "metadata": {},
   "source": [
    "# RGPD "
   ]
  },
  {
   "cell_type": "markdown",
   "metadata": {},
   "source": [
    "* 1 - NE COLLECTEZ QUE LES DONNÉES VRAIMENT NÉCESSAIRES POUR ATTEINDRE VOTRE OBJECTIF\n",
    " \n",
    "\n",
    "Les données sont collectées pour un but bien déterminé et légitime et ne sont pas traitées ultérieurement de façon incompatible avec cet objectif initial.\n",
    "Le principe de finalité limite la manière dont vous pourrez utiliser ou réutiliser ces données dans le futur et évite la collecte de données « au cas où ».\n",
    "Le principe de minimisation limite la collecte aux seules données strictement nécessaires à la réalisation de votre objectif.\n",
    "\n",
    "* 2 - SOYEZ TRANSPARENT\n",
    " \n",
    "Les individus doivent conserver la maîtrise des données qui les concernent. Cela suppose qu’ils soient clairement informés de l’utilisation qui sera faite de leurs données dès leur collecte. Les données ne peuvent en aucun cas être collectées à leur insu. Les personnes doivent également être informées de leurs droits et des modalités d’exercice de ces droits.\n",
    "\n",
    "* 3 - ORGANISEZ ET FACILITEZ L'EXERCICE DES DROITS DES PERSONNES\n",
    " \n",
    "Vous devez organiser des modalités permettant aux personnes d’exercer leurs droits et répondre dans les meilleurs délais à ces demandes de consultation ou d’accès, de rectification ou de suppression des données, voire d’opposition, sauf si le traitement répond à une obligation légale (par exemple, un administré ne peut s’opposer à figurer dans un fichier d’état civil). Ces droits doivent pouvoir s’exercer par voie électronique à partir d’une adresse dédiée.\n",
    "\n",
    "* 4 - FIXEZ DES DURÉES DE CONSERVATION\n",
    " \n",
    "Vous ne pouvez pas conserver les données indéfiniment.\n",
    "\n",
    "Elles ne sont conservées en « base active », c’est-à-dire la gestion courante, que le temps strictement nécessaire à la réalisation de l’objectif poursuivi. Elles doivent être par la suite détruites, anonymisées ou archivées dans le respect des obligations légales applicables en matière de conservation des archives publiques.\n",
    "\n",
    "\n",
    "* 5 - SÉCURISEZ LES DONNÉES ET IDENTIFIEZ LES RISQUES\n",
    " \n",
    "Vous devez prendre toutes les mesures utiles pour garantir la sécurité des données : sécurité physique ou sécurité informatique, sécurisation des locaux, armoires et postes de travail, gestion stricte des habilitations et droits d’accès informatiques. Cela consiste aussi à s’assurer que seuls les tiers autorisés par des textes ont accès aux données. Ces mesures sont adaptées en fonction de la sensibilité des données ou des risques qui peuvent peser sur les personnes en cas d’incident de sécurité.\n",
    "\n",
    "* 6 - INSCRIVEZ LA MISE EN CONFORMITÉ DANS UNE DÉMARCHE CONTINUE\n",
    " \n",
    "La conformité n’est pas gravée dans le marbre et figée.\n",
    "Elle dépend du bon respect au quotidien par les agents, à tous les niveaux, des principes et mesures mis en oeuvre.\n",
    "Vérifiez régulièrement que les traitements n’ont pas évolué, que les procédures et les mesures de sécurité mises en place sont bien respectées et adaptez-les si besoin.\n"
   ]
  },
  {
   "cell_type": "markdown",
   "metadata": {},
   "source": [
    "\n",
    "\n"
   ]
  }
 ],
 "metadata": {
  "kernelspec": {
   "display_name": "base",
   "language": "python",
   "name": "python3"
  },
  "language_info": {
   "codemirror_mode": {
    "name": "ipython",
    "version": 3
   },
   "file_extension": ".py",
   "mimetype": "text/x-python",
   "name": "python",
   "nbconvert_exporter": "python",
   "pygments_lexer": "ipython3",
   "version": "3.10.9"
  }
 },
 "nbformat": 4,
 "nbformat_minor": 2
}
